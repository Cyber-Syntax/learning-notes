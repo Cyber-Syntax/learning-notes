{
 "cells": [
  {
   "cell_type": "markdown",
   "metadata": {},
   "source": [
    "- Ctrl+enter -> run"
   ]
  },
  {
   "cell_type": "markdown",
   "metadata": {},
   "source": [
    "Basic data structures for list.\n",
    "More can be added.\n",
    "Bunun yerine başka bir not alma yöntemi kullan çünkü backup yapmak bunda çok zor olur. Ayrıca bozulursa da geri kazanamayız."
   ]
  },
  {
   "cell_type": "markdown",
   "metadata": {},
   "source": [
    "## List"
   ]
  },
  {
   "cell_type": "markdown",
   "metadata": {},
   "source": []
  },
  {
   "cell_type": "code",
   "execution_count": null,
   "metadata": {},
   "outputs": [],
   "source": [
    "# This basic taken from djangogirls.org and docs.python.org\n",
    "# cyber-syntax\n",
    "variable = \"hi\\nthere\" # \\n same like other language. It's sending 1 line below.\n",
    "int = 54\n",
    "print(variable.upper()) # BIG STRINGS\n",
    "print(len(variable)) # Sum how much character\n",
    "print(len(str(int))) # str() for convert everything to strings"
   ]
  },
  {
   "cell_type": "code",
   "execution_count": null,
   "metadata": {},
   "outputs": [],
   "source": [
    "lottery = [0,1,2,3] # variable\n",
    "len(lottery) # Sum how much character\n",
    "print(len(lottery)) # same with print command.\n",
    "lottery.reverse() # highest to lowest\n",
    "print(lottery)\n",
    "lottery.sort() # lowest to highest\n",
    "print(lottery)\n",
    "# deleting line\n",
    "print(lottery[0]) # line 0 \n",
    "lottery.pop(0) # delete line 0 \n",
    "print(lottery)\n",
    "# appending \n",
    "lottery.append(44)\n",
    "print(lottery)\n",
    "lottery.pop(3) # delete item line 3 \n",
    "lottery.pop() # delete last item \n",
    "print(lottery)"
   ]
  },
  {
   "cell_type": "code",
   "execution_count": null,
   "metadata": {},
   "outputs": [],
   "source": [
    "n = [0,1,2,3]\n",
    "a = [4,5]\n",
    "n.extend(\"a\") # Extend can't add strings\n",
    "n.append([6,7]) # Can't add 2 number\n",
    "print(n)\n",
    "\n",
    "n.insert(9,44) # Can't add string but add number and variable\n",
    "print(n)\n",
    "n.clear() # delete all list items.\n",
    "print(n)\n",
    "n.append(\"s\")\n",
    "print(n)"
   ]
  },
  {
   "cell_type": "markdown",
   "metadata": {},
   "source": [
    "## Dictionary\n",
    "- This is usable for associate values with keys"
   ]
  },
  {
   "cell_type": "code",
   "execution_count": null,
   "metadata": {},
   "outputs": [],
   "source": [
    "dictionary = {'name': 'Jack', 'country': 'US', 'number': [1,2,3]}\n",
    "#printing section\n",
    "print(dictionary['name'])\n",
    "print(dictionary['country'])\n",
    "print(dictionary['number'])\n",
    "# You can change(add,delete,sort...) dictionary later.\n",
    "dictionary['code'] = 'Python'\n",
    "dictionary['country'] = 'Turkey'\n",
    "#print\n",
    "print(dictionary['code'])\n",
    "print(dictionary['country'])\n",
    "#len also working dictionary too.\n",
    "len(dictionary) # summing jack,us,123"
   ]
  },
  {
   "cell_type": "markdown",
   "metadata": {},
   "source": [
    "## Compare"
   ]
  },
  {
   "cell_type": "code",
   "execution_count": null,
   "metadata": {},
   "outputs": [],
   "source": [
    "5 > 2 # true\n",
    "3 < 1 # false\n",
    "1 == 1 # true, They are equal(same)\n",
    "5 != 2 # true, They are unequal(unsame)\n",
    "\n",
    "len([1,2,3]) > len([4,5]) # true\n",
    "\n",
    "n == n # true "
   ]
  },
  {
   "cell_type": "markdown",
   "metadata": {},
   "source": [
    "## Boolean\n",
    "- True\n",
    "- False"
   ]
  },
  {
   "cell_type": "code",
   "execution_count": null,
   "metadata": {},
   "outputs": [],
   "source": [
    "# Correct\n",
    "a = True \n",
    "a # True\n",
    "\n",
    "# Wrong \n",
    "#b = TRUE  \n",
    "#c = tRue\n",
    "#d = true\n",
    "\n",
    "c = True and False\n",
    "c # False\n",
    "\n",
    "d = True or False\n",
    "d # True\n",
    "\n",
    "e = True or 1 == 1 #(True)\n",
    "e # True\n",
    "\n",
    "f = True and 1 == 2 #(False)\n",
    "f # False"
   ]
  },
  {
   "cell_type": "markdown",
   "metadata": {},
   "source": [
    "## If statements"
   ]
  },
  {
   "cell_type": "code",
   "execution_count": null,
   "metadata": {},
   "outputs": [],
   "source": [
    "if 3 > 5:#(If True)\n",
    "    print(\"It's true\")\n",
    "else:\n",
    "    print(\"It's false\")\n"
   ]
  },
  {
   "cell_type": "code",
   "execution_count": null,
   "metadata": {},
   "outputs": [],
   "source": [
    "name = '*'\n",
    "if name == 'name': # Don't forget to colon(iki nokta üst üste)\n",
    "    print(\"hey name!\")\n",
    "elif name == 'murta': # colon\n",
    "    print(\"hey murta!\")\n",
    "else:\n",
    "    print(\"hello anon!\")"
   ]
  },
  {
   "cell_type": "markdown",
   "metadata": {},
   "source": [
    "## Functions"
   ]
  },
  {
   "cell_type": "code",
   "execution_count": null,
   "metadata": {},
   "outputs": [],
   "source": [
    "def hi():\n",
    "    print(\"hi there!\")\n",
    "    print(\"how are you?\")\n",
    "hi()"
   ]
  },
  {
   "cell_type": "code",
   "execution_count": null,
   "metadata": {},
   "outputs": [],
   "source": [
    "def hi(name):\n",
    "    if name == 'Ola':\n",
    "        print(\"Hi ola!\")\n",
    "    else:\n",
    "        print(\"hello anon\")\n",
    "    \n",
    "hi(name)\n",
    "hi(\"Ola\")    \n"
   ]
  },
  {
   "cell_type": "code",
   "execution_count": null,
   "metadata": {},
   "outputs": [],
   "source": [
    "def hi(name):\n",
    "    print(\"Hi \" + name + '!')\n",
    "hi(\"mahmut\")    "
   ]
  },
  {
   "cell_type": "code",
   "execution_count": null,
   "metadata": {},
   "outputs": [],
   "source": [
    "# Create variable\n",
    "directory = range(10) # It's not include number 10\n",
    "for x in directory: # Don't forget to colon\n",
    "    print(x)\n"
   ]
  },
  {
   "cell_type": "markdown",
   "metadata": {},
   "source": [
    "## Loops"
   ]
  },
  {
   "cell_type": "code",
   "execution_count": null,
   "metadata": {},
   "outputs": [],
   "source": [
    "# create function\n",
    "def hi(name): \n",
    "    print(\"Hi \" + name) \n",
    "# create list for girls\n",
    "girls = ['Rachel', 'Monica', 'Phoebe', 'Ola', 'You']\n",
    "# for statement give all the list \n",
    "for name in girls:\n",
    "    hi(name)\n",
    "    print(\"Next girl\")"
   ]
  },
  {
   "cell_type": "code",
   "execution_count": null,
   "metadata": {},
   "outputs": [],
   "source": [
    "#range is a function that creates a list of numbers following one after the other (these numbers are provided by you as parameters).\n",
    "for i in range(0,3): # range include the first value but won't include last\n",
    "    print(i)"
   ]
  },
  {
   "cell_type": "markdown",
   "metadata": {},
   "source": [
    "## Operators"
   ]
  },
  {
   "cell_type": "code",
   "execution_count": null,
   "metadata": {},
   "outputs": [],
   "source": [
    "# Day 1 - 30DaysOfPython Challenge\n",
    "\n",
    "print(2 + 3)             # addition(+)\n",
    "print(3 - 1)             # subtraction(-)\n",
    "print(2 * 3)             # multiplication(*)\n",
    "print(3 / 2)             # division(/)\n",
    "print(10**2)            # exponential(**)\n",
    "print(6 % 2)             # modulus(%)(bölümden kalan)\n",
    "print(91 // 2)            # Floor division operator(//)\n",
    "# en yakın sayıya // yuvarlama"
   ]
  },
  {
   "cell_type": "code",
   "execution_count": null,
   "metadata": {},
   "outputs": [],
   "source": [
    "# Checking data types\n",
    "print(type(10))          # Int\n",
    "print(type(3.14))        # Float\n",
    "print(type(1 + 3j))      # Complex number\n",
    "print(type('Asabeneh'))  # String\n",
    "print(type([1, 2, 3]))   # List\n",
    "print(type({'name':'Asabeneh'})) # Dictionary\n",
    "print(type({9.8, 3.14, 2.7}))    # Set\n",
    "print(type((9.8, 3.14, 2.7)))    # Tuple"
   ]
  },
  {
   "cell_type": "code",
   "execution_count": null,
   "metadata": {},
   "outputs": [],
   "source": [
    "= \t    x = 5 \t    = 5 \t\n",
    "+= \t    x += 3 \t    x = x + 3 \t\n",
    "-= \t    x -= 3 \t    x = x - 3 \t\n",
    "*=  \tx *= 3 \t    x = x * 3 \t\n",
    "/=  \tx /= 3 \t    x = x / 3 \t\n",
    "%=  \tx %= 3 \t    x = x % 3 \t\n",
    "//= \tx //= 3 \tx = x // 3 \t\n",
    "**= \tx **= 3 \tx = x ** 3 \t\n",
    "&= \t    x &= 3 \t    x = x & 3 \t\n",
    "|=  \tx |= 3  \tx = x | 3 \t\n",
    "^=  \tx ^= 3 \t    x = x ^ 3 \t\n",
    ">>= \tx >>= 3 \tx = x >> 3 \t\n",
    "<<= \tx <<= 3 \tx = x << 3"
   ]
  },
  {
   "cell_type": "code",
   "execution_count": null,
   "metadata": {},
   "outputs": [],
   "source": [
    "== \tEqual \t    x == y \t\n",
    "!= \tNot equal \tx != y"
   ]
  },
  {
   "cell_type": "code",
   "execution_count": null,
   "metadata": {},
   "outputs": [],
   "source": [
    "not \t\n",
    "Reverse the result, returns False if the result is true \t\n",
    "not(x < 5 and x < 10)"
   ]
  },
  {
   "cell_type": "code",
   "execution_count": null,
   "metadata": {},
   "outputs": [],
   "source": [
    "is  \tReturns True if both variables are the same object \tx is y \t\n",
    "is not \tReturns True if both variables are not the same object \tx is not y"
   ]
  },
  {
   "cell_type": "code",
   "execution_count": null,
   "metadata": {},
   "outputs": [],
   "source": [
    "in  \tReturns True if a sequence with the specified value is present in the object \tx in y \t\n",
    "not in \tReturns True if a sequence with the specified value is not present in the object \tx not in y"
   ]
  },
  {
   "cell_type": "code",
   "execution_count": null,
   "metadata": {},
   "outputs": [],
   "source": [
    "(3 ** 2) + (2**2) "
   ]
  },
  {
   "cell_type": "markdown",
   "metadata": {},
   "source": [
    "## Built-in functions"
   ]
  },
  {
   "cell_type": "code",
   "execution_count": null,
   "metadata": {},
   "outputs": [],
   "source": [
    "# Convert the number 3 and imaginary number 5 into a complex number: \n",
    "x = complex(3, 5)\n",
    "print(x)\n",
    "x = complex(0, 9)\n",
    "print(x)"
   ]
  },
  {
   "cell_type": "code",
   "execution_count": null,
   "metadata": {},
   "outputs": [],
   "source": [
    "# Returns the specified source as an object, ready to be executed\n",
    "x = compile('print(55)', 'test', 'eval')\n",
    "exec(x) \n",
    "# eval - if the source is a single expression\n",
    "# exec - if the source is a block of statements\n",
    "# single - if the source is a single interactive statement"
   ]
  },
  {
   "cell_type": "code",
   "execution_count": 2,
   "metadata": {},
   "outputs": [
    {
     "name": "stdout",
     "output_type": "stream",
     "text": [
      "A\n"
     ]
    }
   ],
   "source": [
    "y = chr(65)\n",
    "print(y)"
   ]
  },
  {
   "cell_type": "code",
   "execution_count": null,
   "metadata": {},
   "outputs": [],
   "source": [
    "x = 5\n",
    "\n",
    "print(callable(x))\n",
    "\n",
    "def x():\n",
    "  a = 5\n",
    "\n",
    "print(callable(x)) "
   ]
  },
  {
   "cell_type": "code",
   "execution_count": null,
   "metadata": {},
   "outputs": [],
   "source": [
    "#bytearray(\"aé123 \\_-\",\"UTF-8\", 'strict')\n",
    "bytearray(1)\n",
    "\n",
    "bytes(x, encoding, error)\n",
    "\n",
    "# The difference between bytes() and bytearray() is that bytes() returns an object that cannot \n",
    "# be modified, and bytearray() returns an object that can be modified.\n",
    "\n",
    "\n",
    "\n",
    "#encoding \tOptional. A String specifying the encoding to use. Default is UTF-8\n",
    "#\n",
    "#errors \tOptional. A String specifying the error method. Legal values are:\n",
    "#\n",
    "#'backslashreplace'\t- uses a backslash instead of the character that could not be encoded\n",
    "#'ignore'\t        - ignores the characters that cannot be encoded\n",
    "#'namereplace'\t    - replaces the character with a text explaining the character\n",
    "#'strict'\t        - Default, raises an error on failure\n",
    "#'replace'\t        - replaces the character with a questionmark\n",
    "#'xmlcharrefreplace'\t- replaces the character with an xml character \n"
   ]
  },
  {
   "cell_type": "code",
   "execution_count": null,
   "metadata": {},
   "outputs": [],
   "source": [
    "bool(-5)\n",
    "\n",
    "\n",
    "#The object will always return True, unless:\n",
    "#The object is empty, like [], (), {}\n",
    "# The object is False\n",
    "# The object is 0\n",
    "#The object is None\n"
   ]
  },
  {
   "cell_type": "code",
   "execution_count": null,
   "metadata": {},
   "outputs": [],
   "source": [
    "ascii(\"abcde1234é\")"
   ]
  },
  {
   "cell_type": "code",
   "execution_count": null,
   "metadata": {},
   "outputs": [],
   "source": [
    "# It's like \"or\"\n",
    "mylist = [False, True, False]\n",
    "x = any(mylist)\n",
    "print(x)\n",
    "\n",
    "mytuple = (0, 1, False)\n",
    "x = any(mytuple)\n",
    "print(x)\n",
    "\n",
    "# Returns True because the second item is True\n"
   ]
  },
  {
   "cell_type": "code",
   "execution_count": null,
   "metadata": {},
   "outputs": [],
   "source": [
    "mylist = [1, True, True]\n",
    "x = all(mylist)\n",
    "print(x)\n",
    "\"\"\"\n",
    "The all() function returns True if all items in an \n",
    "iterable are true, otherwise it returns False.\n",
    "\n",
    "If the iterable object is empty, the all() function also returns True.\n",
    "\n",
    "iterable \tAn iterable object (list, tuple, dictionary)\n",
    "\"\"\"\n",
    "mylist = [0, 1, True]\n",
    "x = all(mylist)\n",
    "print(x)\n",
    "\n",
    "# Returns False because 0 is the same as False\n",
    "mydict = {0 : \"Apple\", 1 : \"Orange\"}\n",
    "x = all(mydict)\n",
    "print(x)\n",
    "\n",
    "# Returns False because the first key is false.\n",
    "\n",
    "# For dictionaries the all() function checks the keys, not the values.\n"
   ]
  },
  {
   "cell_type": "code",
   "execution_count": null,
   "metadata": {},
   "outputs": [],
   "source": [
    "#help(dir)\n",
    "bin(3)\n",
    "\"\"\"\n",
    "The bin() function returns the binary version of a specified integer.\n",
    "The result will always start with the prefix 0b.\n",
    "\"\"\""
   ]
  },
  {
   "cell_type": "code",
   "execution_count": null,
   "metadata": {},
   "outputs": [],
   "source": [
    "abs(-15.7) #Return the absolute value of a number.\n",
    "# output = 15.7  \n",
    "x = abs(3+5j) # complex number\n",
    "print(x)\n",
    "\n"
   ]
  },
  {
   "cell_type": "code",
   "execution_count": null,
   "metadata": {},
   "outputs": [],
   "source": [
    "# error\n",
    "#int(3) \n",
    "#int('f')\n",
    "#int(\"3\")\n",
    "#int('010', 0)"
   ]
  },
  {
   "cell_type": "code",
   "execution_count": null,
   "metadata": {},
   "outputs": [],
   "source": [
    "min([1,2,3,4,0])\n",
    "min([2,3,4], [0], [1], [-1])"
   ]
  },
  {
   "cell_type": "markdown",
   "metadata": {},
   "source": [
    "## Variables"
   ]
  },
  {
   "cell_type": "code",
   "execution_count": null,
   "metadata": {},
   "outputs": [],
   "source": [
    "# Valid variables names\n",
    "firstname\n",
    "lastname\n",
    "age\n",
    "country\n",
    "city\n",
    "first_name\n",
    "last_name\n",
    "capital_city\n",
    "_if # if we want to use reserved word as a variable\n",
    "_while\n",
    "_for\n",
    "year_2021\n",
    "year2021\n",
    "current_year_2021\n",
    "birth_year\n",
    "num1\n",
    "num2"
   ]
  },
  {
   "cell_type": "code",
   "execution_count": null,
   "metadata": {},
   "outputs": [],
   "source": [
    "# Invalid variables names\n",
    "first-name\n",
    "first@name\n",
    "first$name\n",
    "num-1\n",
    "1num"
   ]
  }
 ],
 "metadata": {
  "kernelspec": {
   "display_name": "Python 3",
   "language": "python",
   "name": "python3"
  },
  "language_info": {
   "codemirror_mode": {
    "name": "ipython",
    "version": 3
   },
   "file_extension": ".py",
   "mimetype": "text/x-python",
   "name": "python",
   "nbconvert_exporter": "python",
   "pygments_lexer": "ipython3",
   "version": "3.10.6 (main, Nov 10 2011, 15:00:00) [GCC 12.1.0]"
  },
  "orig_nbformat": 4,
  "vscode": {
   "interpreter": {
    "hash": "e7370f93d1d0cde622a1f8e1c04877d8463912d04d973331ad4851f04de6915a"
   }
  }
 },
 "nbformat": 4,
 "nbformat_minor": 2
}
